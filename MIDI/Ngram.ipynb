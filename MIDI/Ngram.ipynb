{
 "cells": [
  {
   "cell_type": "code",
   "execution_count": 1,
   "id": "82a940c4-0f4b-4458-bad2-643e3628e18c",
   "metadata": {
    "tags": []
   },
   "outputs": [
    {
     "data": {
      "text/plain": [
       "<module 'midiParser' from 'C:\\\\Users\\\\cjgra\\\\Documents\\\\GitHub\\\\Music-Generation\\\\MIDI\\\\midiParser.py'>"
      ]
     },
     "execution_count": 1,
     "metadata": {},
     "output_type": "execute_result"
    }
   ],
   "source": [
    "import midiParser as mp\n",
    "import mido\n",
    "import sklearn\n",
    "import importlib\n",
    "importlib.reload(mp)"
   ]
  },
  {
   "cell_type": "code",
   "execution_count": 2,
   "id": "34b9dd49-40d7-43fa-af04-3345676a18cf",
   "metadata": {
    "tags": []
   },
   "outputs": [],
   "source": [
    "song = mido.MidiFile('./mary.mid')\n",
    "corpus = mp.to_arr(song, note_only = True)"
   ]
  },
  {
   "cell_type": "code",
   "execution_count": 3,
   "id": "e3402062-9682-40cf-bc7c-1e3e692f918f",
   "metadata": {
    "tags": []
   },
   "outputs": [],
   "source": [
    "times = mp.to_arr(song, time_only =True)"
   ]
  },
  {
   "cell_type": "code",
   "execution_count": 4,
   "id": "e86485e0-10d8-4f2e-81fb-d8ec597f0a69",
   "metadata": {
    "tags": []
   },
   "outputs": [],
   "source": [
    "def basic_bigram(corpus):\n",
    "    bigram_freqs = {}\n",
    "    bigrams = [(corpus[i], corpus[i+1]) for i in range(len(corpus)-1)]\n",
    "    for bigram in bigrams:\n",
    "        bigram_freqs[bigram] = bigram_freqs.get(bigram, 0) + 1\n",
    "    \n",
    "    return bigram_freqs"
   ]
  },
  {
   "cell_type": "code",
   "execution_count": 5,
   "id": "16f0cdb0-2893-41fe-bde3-0647021c2088",
   "metadata": {
    "tags": []
   },
   "outputs": [
    {
     "data": {
      "text/plain": [
       "{(64, 48): 5,\n",
       " (48, 62): 2,\n",
       " (62, 55): 7,\n",
       " (55, 60): 3,\n",
       " (60, 52): 2,\n",
       " (52, 62): 2,\n",
       " (55, 64): 7,\n",
       " (48, 64): 2,\n",
       " (64, 55): 3,\n",
       " (64, 52): 2,\n",
       " (52, 55): 2,\n",
       " (55, 62): 3,\n",
       " (62, 47): 2,\n",
       " (47, 62): 2,\n",
       " (62, 53): 1,\n",
       " (53, 55): 1,\n",
       " (48, 67): 1,\n",
       " (67, 55): 1,\n",
       " (55, 67): 1,\n",
       " (67, 52): 1,\n",
       " (52, 64): 1,\n",
       " (64, 53): 1,\n",
       " (53, 62): 1,\n",
       " (60, 48): 1,\n",
       " (48, 55): 1,\n",
       " (55, 48): 1}"
      ]
     },
     "execution_count": 5,
     "metadata": {},
     "output_type": "execute_result"
    }
   ],
   "source": [
    "basic_bigram(corpus)"
   ]
  },
  {
   "cell_type": "code",
   "execution_count": 6,
   "id": "0a066b3b-42ee-4264-9eb6-0f421a74e72b",
   "metadata": {},
   "outputs": [],
   "source": [
    "from nltk import bigrams\n",
    "from collections import defaultdict\n",
    "model = defaultdict(lambda: defaultdict(lambda: 0))"
   ]
  },
  {
   "cell_type": "code",
   "execution_count": null,
   "id": "fe07ba50-c8bf-4909-8afa-cb38f3d86d33",
   "metadata": {},
   "outputs": [],
   "source": []
  },
  {
   "cell_type": "code",
   "execution_count": null,
   "id": "68ec7e59-b5f8-48de-af0c-2ab1ad38ede4",
   "metadata": {
    "tags": []
   },
   "outputs": [],
   "source": []
  },
  {
   "cell_type": "code",
   "execution_count": 7,
   "id": "42b3c9b8-fbc6-4628-8151-2a11ad4779ac",
   "metadata": {},
   "outputs": [],
   "source": [
    "for n1,n2 in bigrams(corpus):\n",
    "    model[n1][n2] += 1"
   ]
  },
  {
   "cell_type": "code",
   "execution_count": 8,
   "id": "56987f22-8883-4e22-9b98-c6a751a62033",
   "metadata": {
    "tags": []
   },
   "outputs": [],
   "source": [
    "for n1 in model:\n",
    "    total_count = float(sum(model[n1].values()))\n",
    "    for n2 in model[n1]:\n",
    "        model[n1][n2] /= total_count"
   ]
  },
  {
   "cell_type": "code",
   "execution_count": 9,
   "id": "357717bd-f473-4592-861b-abb69527fce2",
   "metadata": {},
   "outputs": [
    {
     "data": {
      "text/plain": [
       "2"
      ]
     },
     "execution_count": 9,
     "metadata": {},
     "output_type": "execute_result"
    }
   ],
   "source": [
    "# check if notes exist\n",
    "len(model[60])"
   ]
  },
  {
   "cell_type": "code",
   "execution_count": 10,
   "id": "15e6c81b-10e8-4500-bc73-3d121b513e56",
   "metadata": {
    "tags": []
   },
   "outputs": [],
   "source": [
    "import random\n",
    "r = random.random()\n",
    "y = .0"
   ]
  },
  {
   "cell_type": "code",
   "execution_count": 11,
   "id": "282b257d-1533-45c3-83b2-ec1610cba02e",
   "metadata": {
    "tags": []
   },
   "outputs": [
    {
     "name": "stdout",
     "output_type": "stream",
     "text": [
      "[60, 48, 55, 64, 48, 64, 48, 67, 55, 64, 48, 62, 55, 67, 52, 55, 60, 52, 62, 53, 55, 64, 52, 55, 64, 48, 55, 64, 55, 60, 48, 67, 55, 62, 55, 64, 48, 62, 47, 62, 55, 64, 48, 67, 55, 60, 48, 55, 60, 52, 55, 64, 55, 60, 48, 64, 48, 67, 52, 55]\n"
     ]
    }
   ],
   "source": [
    "import random\n",
    "starting_note = [60]\n",
    "if len(model[starting_note[-1]]):\n",
    "    song_finished = False\n",
    "    while not song_finished:\n",
    "        r = random.random()\n",
    "        y = .0\n",
    "        for note in model[starting_note[-1]]:\n",
    "            y+= model[starting_note[-1]][note]\n",
    "            if y>r:\n",
    "                starting_note.append(note)\n",
    "                break\n",
    "        if len(starting_note) == 60:\n",
    "            song_finished = True\n",
    "    print(starting_note)\n",
    "else:\n",
    "    print('Starting note did not exist')"
   ]
  },
  {
   "cell_type": "code",
   "execution_count": 12,
   "id": "b5703815-a145-4238-b729-0fb0178c6e48",
   "metadata": {
    "tags": []
   },
   "outputs": [],
   "source": [
    "mp.note_to_midi(starting_note, 'test_3')"
   ]
  },
  {
   "cell_type": "code",
   "execution_count": 13,
   "id": "be4c58a6-dbf2-42a9-9295-077b1ddd284b",
   "metadata": {
    "tags": []
   },
   "outputs": [],
   "source": [
    "song = mido.MidiFile('./mary.mid')\n",
    "corpus = mp.to_arr(song)"
   ]
  },
  {
   "cell_type": "code",
   "execution_count": null,
   "id": "af885f44-e3a7-4a65-a3e7-b05ac65cbba4",
   "metadata": {
    "tags": []
   },
   "outputs": [],
   "source": []
  },
  {
   "cell_type": "code",
   "execution_count": 14,
   "id": "6bc5d2ca-b32f-46bc-8dbb-640bc54f5abb",
   "metadata": {
    "tags": []
   },
   "outputs": [],
   "source": [
    "import os\n",
    "import pandas as pd\n",
    "import sqlite3\n",
    "query_list = []\n",
    "for filename in os.listdir('data'):\n",
    "    f = os.path.join('data',filename)\n",
    "    for file in os.listdir(f):\n",
    "        path = os.path.join(f,file)\n",
    "        song = mido.MidiFile(path)\n",
    "        query = [filename, file, mp.to_arr(song, velocity_based=True), mp.to_arr(song, time_only = True)]\n",
    "        query[2] = list(map(str, query[2])) #changes to strings for use with nltk\n",
    "        query[3] = list(map(str, query[3])) #changes to strings for use with nltk\n",
    "        query_list.append(query)\n",
    "song_data = pd.DataFrame(query_list, columns = ['composer','filename','note_corpus', 'time_corpus'])"
   ]
  },
  {
   "cell_type": "code",
   "execution_count": 15,
   "id": "59ce372a-e4bf-43fa-8076-faba5454208f",
   "metadata": {
    "tags": []
   },
   "outputs": [
    {
     "data": {
      "text/html": [
       "<div>\n",
       "<style scoped>\n",
       "    .dataframe tbody tr th:only-of-type {\n",
       "        vertical-align: middle;\n",
       "    }\n",
       "\n",
       "    .dataframe tbody tr th {\n",
       "        vertical-align: top;\n",
       "    }\n",
       "\n",
       "    .dataframe thead th {\n",
       "        text-align: right;\n",
       "    }\n",
       "</style>\n",
       "<table border=\"1\" class=\"dataframe\">\n",
       "  <thead>\n",
       "    <tr style=\"text-align: right;\">\n",
       "      <th></th>\n",
       "      <th>composer</th>\n",
       "      <th>filename</th>\n",
       "      <th>note_corpus</th>\n",
       "      <th>time_corpus</th>\n",
       "    </tr>\n",
       "  </thead>\n",
       "  <tbody>\n",
       "    <tr>\n",
       "      <th>0</th>\n",
       "      <td>albeniz</td>\n",
       "      <td>alb_esp1.mid</td>\n",
       "      <td>[81, 88, 86, 88, 86, 84, 86, 88, 89, 91, 88, 8...</td>\n",
       "      <td>[240, 240, 0, 1560, 0, 60, 0, 60, 0, 240, 0, 2...</td>\n",
       "    </tr>\n",
       "    <tr>\n",
       "      <th>1</th>\n",
       "      <td>albeniz</td>\n",
       "      <td>alb_esp2.mid</td>\n",
       "      <td>[57, 69, 66, 62, 57, 62, 66, 69, 57, 62, 66, 6...</td>\n",
       "      <td>[360, 120, 0, 0, 0, 480, 0, 0, 360, 120, 0, 0,...</td>\n",
       "    </tr>\n",
       "    <tr>\n",
       "      <th>2</th>\n",
       "      <td>albeniz</td>\n",
       "      <td>alb_esp3.mid</td>\n",
       "      <td>[71, 75, 78, 76, 78, 76, 72, 81, 71, 75, 78, 7...</td>\n",
       "      <td>[0, 120, 120, 120, 120, 120, 120, 80, 0, 80, 0...</td>\n",
       "    </tr>\n",
       "    <tr>\n",
       "      <th>3</th>\n",
       "      <td>albeniz</td>\n",
       "      <td>alb_esp4.mid</td>\n",
       "      <td>[79, 74, 75, 79, 78, 81, 79, 81, 79, 78, 79, 8...</td>\n",
       "      <td>[0, 120, 120, 120, 120, 120, 120, 120, 120, 12...</td>\n",
       "    </tr>\n",
       "    <tr>\n",
       "      <th>4</th>\n",
       "      <td>albeniz</td>\n",
       "      <td>alb_esp5.mid</td>\n",
       "      <td>[75, 79, 77, 74, 80, 77, 77, 74, 75, 79, 72, 7...</td>\n",
       "      <td>[1920, 0, 720, 0, 0, 0, 240, 0, 0, 0, 480, 0, ...</td>\n",
       "    </tr>\n",
       "    <tr>\n",
       "      <th>...</th>\n",
       "      <td>...</td>\n",
       "      <td>...</td>\n",
       "      <td>...</td>\n",
       "      <td>...</td>\n",
       "    </tr>\n",
       "    <tr>\n",
       "      <th>290</th>\n",
       "      <td>tschai</td>\n",
       "      <td>ty_maerz.mid</td>\n",
       "      <td>[67, 67, 69, 67, 66, 69, 67, 70, 74, 78, 79, 7...</td>\n",
       "      <td>[2160, 60, 60, 40, 0, 40, 0, 40, 0, 360, 0, 12...</td>\n",
       "    </tr>\n",
       "    <tr>\n",
       "      <th>291</th>\n",
       "      <td>tschai</td>\n",
       "      <td>ty_mai.mid</td>\n",
       "      <td>[62, 66, 74, 71, 62, 67, 71, 62, 69, 74, 71, 6...</td>\n",
       "      <td>[2100, 30, 30, 480, 0, 180, 30, 30, 0, 0, 0, 6...</td>\n",
       "    </tr>\n",
       "    <tr>\n",
       "      <th>292</th>\n",
       "      <td>tschai</td>\n",
       "      <td>ty_november.mid</td>\n",
       "      <td>[73, 71, 76, 68, 71, 80, 83, 85, 83, 80, 71, 6...</td>\n",
       "      <td>[0, 240, 0, 240, 0, 480, 0, 480, 0, 0, 0, 240,...</td>\n",
       "    </tr>\n",
       "    <tr>\n",
       "      <th>293</th>\n",
       "      <td>tschai</td>\n",
       "      <td>ty_oktober.mid</td>\n",
       "      <td>[65, 69, 77, 69, 67, 76, 65, 69, 74, 68, 69, 6...</td>\n",
       "      <td>[0, 0, 480, 480, 0, 0, 0, 480, 0, 480, 0, 0, 0...</td>\n",
       "    </tr>\n",
       "    <tr>\n",
       "      <th>294</th>\n",
       "      <td>tschai</td>\n",
       "      <td>ty_september.mid</td>\n",
       "      <td>[62, 74, 74, 62, 62, 74, 74, 62, 62, 74, 62, 7...</td>\n",
       "      <td>[0, 0, 840, 0, 0, 0, 120, 0, 0, 0, 840, 0, 0, ...</td>\n",
       "    </tr>\n",
       "  </tbody>\n",
       "</table>\n",
       "<p>295 rows × 4 columns</p>\n",
       "</div>"
      ],
      "text/plain": [
       "    composer          filename   \n",
       "0    albeniz      alb_esp1.mid  \\\n",
       "1    albeniz      alb_esp2.mid   \n",
       "2    albeniz      alb_esp3.mid   \n",
       "3    albeniz      alb_esp4.mid   \n",
       "4    albeniz      alb_esp5.mid   \n",
       "..       ...               ...   \n",
       "290   tschai      ty_maerz.mid   \n",
       "291   tschai        ty_mai.mid   \n",
       "292   tschai   ty_november.mid   \n",
       "293   tschai    ty_oktober.mid   \n",
       "294   tschai  ty_september.mid   \n",
       "\n",
       "                                           note_corpus   \n",
       "0    [81, 88, 86, 88, 86, 84, 86, 88, 89, 91, 88, 8...  \\\n",
       "1    [57, 69, 66, 62, 57, 62, 66, 69, 57, 62, 66, 6...   \n",
       "2    [71, 75, 78, 76, 78, 76, 72, 81, 71, 75, 78, 7...   \n",
       "3    [79, 74, 75, 79, 78, 81, 79, 81, 79, 78, 79, 8...   \n",
       "4    [75, 79, 77, 74, 80, 77, 77, 74, 75, 79, 72, 7...   \n",
       "..                                                 ...   \n",
       "290  [67, 67, 69, 67, 66, 69, 67, 70, 74, 78, 79, 7...   \n",
       "291  [62, 66, 74, 71, 62, 67, 71, 62, 69, 74, 71, 6...   \n",
       "292  [73, 71, 76, 68, 71, 80, 83, 85, 83, 80, 71, 6...   \n",
       "293  [65, 69, 77, 69, 67, 76, 65, 69, 74, 68, 69, 6...   \n",
       "294  [62, 74, 74, 62, 62, 74, 74, 62, 62, 74, 62, 7...   \n",
       "\n",
       "                                           time_corpus  \n",
       "0    [240, 240, 0, 1560, 0, 60, 0, 60, 0, 240, 0, 2...  \n",
       "1    [360, 120, 0, 0, 0, 480, 0, 0, 360, 120, 0, 0,...  \n",
       "2    [0, 120, 120, 120, 120, 120, 120, 80, 0, 80, 0...  \n",
       "3    [0, 120, 120, 120, 120, 120, 120, 120, 120, 12...  \n",
       "4    [1920, 0, 720, 0, 0, 0, 240, 0, 0, 0, 480, 0, ...  \n",
       "..                                                 ...  \n",
       "290  [2160, 60, 60, 40, 0, 40, 0, 40, 0, 360, 0, 12...  \n",
       "291  [2100, 30, 30, 480, 0, 180, 30, 30, 0, 0, 0, 6...  \n",
       "292  [0, 240, 0, 240, 0, 480, 0, 480, 0, 0, 0, 240,...  \n",
       "293  [0, 0, 480, 480, 0, 0, 0, 480, 0, 480, 0, 0, 0...  \n",
       "294  [0, 0, 840, 0, 0, 0, 120, 0, 0, 0, 840, 0, 0, ...  \n",
       "\n",
       "[295 rows x 4 columns]"
      ]
     },
     "execution_count": 15,
     "metadata": {},
     "output_type": "execute_result"
    }
   ],
   "source": [
    "song_data"
   ]
  },
  {
   "cell_type": "code",
   "execution_count": 16,
   "id": "2c805fba-b35c-459f-923c-ef03dc4d33ac",
   "metadata": {
    "tags": []
   },
   "outputs": [],
   "source": [
    "song_3 = mido.MidiFile('data/albeniz/alb_esp1.mid')\n",
    "test_notes = mp.to_arr(song_3, velocity_based = True)\n",
    "# Interesting, these midi files don't use notes on and off, they set the notes \n",
    "# velocity to 0\n",
    "# this means my to_arr() fucntion won't work to properly create bigrams,\n",
    "# as there are a bunch of extra notes - should be fixed mostly now"
   ]
  },
  {
   "cell_type": "code",
   "execution_count": 17,
   "id": "25b76b9b-a497-4875-9513-1822f85ab8ba",
   "metadata": {
    "tags": []
   },
   "outputs": [],
   "source": [
    "from nltk import bigrams\n",
    "from collections import defaultdict\n",
    "model_2 = defaultdict(lambda: defaultdict(lambda: 0))"
   ]
  },
  {
   "cell_type": "code",
   "execution_count": 18,
   "id": "1a9f3c21-4c46-429e-88ad-42f3b928afab",
   "metadata": {
    "tags": []
   },
   "outputs": [],
   "source": [
    "large_corpus = song_data['note_corpus'].to_list()\n",
    "time_corpus = song_data['time_corpus'].to_list()"
   ]
  },
  {
   "cell_type": "code",
   "execution_count": 56,
   "id": "dcce26ab-9a50-4e97-9303-269ad62bccf8",
   "metadata": {
    "tags": []
   },
   "outputs": [],
   "source": [
    "from nltk.lm.preprocessing import padded_everygram_pipeline\n",
    "train, vocab = padded_everygram_pipeline(4, large_corpus)\n",
    "ttrain, tvocab = padded_everygram_pipeline(4, time_corpus)"
   ]
  },
  {
   "cell_type": "code",
   "execution_count": 57,
   "id": "b97e3053-0411-4f1b-8637-ffc88be4d5bb",
   "metadata": {
    "tags": []
   },
   "outputs": [],
   "source": [
    "from nltk.lm import MLE\n",
    "lm = MLE(2)\n",
    "lm2 = MLE(2)"
   ]
  },
  {
   "cell_type": "code",
   "execution_count": 58,
   "id": "5de13748-93a3-47f8-9abe-76c672f72917",
   "metadata": {},
   "outputs": [],
   "source": [
    "lm.fit(train, vocab)\n",
    "lm2.fit(ttrain, tvocab)"
   ]
  },
  {
   "cell_type": "code",
   "execution_count": 59,
   "id": "f54a7ea5-6e28-4543-99ee-e8f3958520de",
   "metadata": {
    "tags": []
   },
   "outputs": [
    {
     "data": {
      "text/plain": [
       "90"
      ]
     },
     "execution_count": 59,
     "metadata": {},
     "output_type": "execute_result"
    }
   ],
   "source": [
    "len(lm.vocab)"
   ]
  },
  {
   "cell_type": "code",
   "execution_count": 37,
   "id": "3266ee71-0ea8-4d48-874f-07ad310d153e",
   "metadata": {
    "tags": []
   },
   "outputs": [],
   "source": [
    "test_song = lm.generate(60, random_seed = 13)\n",
    "test_time = lm2.generate(60, random_seed = 13)"
   ]
  },
  {
   "cell_type": "code",
   "execution_count": 38,
   "id": "a38e9358-bd3e-4330-a76d-efaf3b5987bd",
   "metadata": {
    "tags": []
   },
   "outputs": [],
   "source": [
    "test_song = list(map(int, test_song))\n",
    "test_time = list(map(int, test_time))\n",
    "# change back to int for easier convert to midi"
   ]
  },
  {
   "cell_type": "code",
   "execution_count": null,
   "id": "cf3a3970-1a2c-4317-aba6-873e7967413d",
   "metadata": {},
   "outputs": [],
   "source": [
    "mp.note_to_midi(test_song, 'large_corpus')\n",
    "mp.time_to_midi(test_song, test_time, 'notes_and_times')"
   ]
  },
  {
   "cell_type": "markdown",
   "id": "cdce8d2d-4ff1-420c-815a-ac04d80f8781",
   "metadata": {
    "tags": []
   },
   "source": [
    "#### 5-gram Model:"
   ]
  },
  {
   "cell_type": "code",
   "execution_count": 70,
   "id": "c457bc51-71c7-4ba8-bf2d-bebda2916596",
   "metadata": {
    "tags": []
   },
   "outputs": [],
   "source": [
    "from nltk.lm import MLE\n",
    "lm_5 = MLE(5)\n",
    "lm2_5 = MLE(5)"
   ]
  },
  {
   "cell_type": "code",
   "execution_count": 71,
   "id": "ee7b93f6-3d4e-4290-b91c-f380136c681f",
   "metadata": {
    "tags": []
   },
   "outputs": [],
   "source": [
    "from nltk.lm.preprocessing import padded_everygram_pipeline\n",
    "train, vocab = padded_everygram_pipeline(5, large_corpus)\n",
    "ttrain, tvocab = padded_everygram_pipeline(5, time_corpus)\n",
    "# Not sure why I need to reinstate the generater object, should just restart by itself"
   ]
  },
  {
   "cell_type": "code",
   "execution_count": 72,
   "id": "f593fc27-0fa8-44c8-b2ec-b07e3f345c68",
   "metadata": {
    "tags": []
   },
   "outputs": [],
   "source": [
    "lm_5.fit(train, vocab)\n",
    "lm2_5.fit(ttrain, tvocab)"
   ]
  },
  {
   "cell_type": "code",
   "execution_count": 50,
   "id": "87d7ea0a-7ae8-4870-b999-8e29ce7994a6",
   "metadata": {
    "tags": []
   },
   "outputs": [],
   "source": [
    "test_song = lm_5.generate(60, random_seed = 13)\n",
    "test_time = lm2_5.generate(60, random_seed = 13)"
   ]
  },
  {
   "cell_type": "code",
   "execution_count": 53,
   "id": "6d366a3e-652a-4c08-bed4-3e775bcda73e",
   "metadata": {
    "tags": []
   },
   "outputs": [],
   "source": [
    "test_song = list(map(int, test_song))\n",
    "test_time = list(map(int, test_time))\n",
    "# change back to int for easier convert to midi"
   ]
  },
  {
   "cell_type": "code",
   "execution_count": 54,
   "id": "50829a6e-1f87-4249-96e8-67ef21666c77",
   "metadata": {
    "tags": []
   },
   "outputs": [],
   "source": [
    "mp.note_to_midi(test_song, '5gram')\n",
    "mp.time_to_midi(test_song, test_time, '5gram_parallel')"
   ]
  },
  {
   "cell_type": "code",
   "execution_count": 75,
   "id": "cf9df8c2-7808-4b94-b4d6-6d2a59b500b7",
   "metadata": {
    "tags": []
   },
   "outputs": [],
   "source": [
    "test_song = lm_5.generate(120, random_seed = 13)\n",
    "test_time = lm2_5.generate(120, random_seed = 13)\n",
    "test_song = list(map(int, test_song))\n",
    "test_time = list(map(int, test_time))"
   ]
  },
  {
   "cell_type": "code",
   "execution_count": 76,
   "id": "66284d01-b783-423f-9153-68e39e948758",
   "metadata": {
    "tags": []
   },
   "outputs": [],
   "source": [
    "mp.note_to_midi(test_song, '5gram_long')\n",
    "mp.time_to_midi(test_song, test_time, '5gram_parallel_long')"
   ]
  },
  {
   "cell_type": "markdown",
   "id": "d7540097-92ec-4f96-9672-5d33548588f6",
   "metadata": {
    "tags": []
   },
   "source": [
    "#### 15-gram model"
   ]
  },
  {
   "cell_type": "code",
   "execution_count": 63,
   "id": "087e7290-3eb2-46ab-9929-b824d617cca7",
   "metadata": {},
   "outputs": [],
   "source": [
    "from nltk.lm import MLE\n",
    "lm_15 = MLE(15)\n",
    "lm2_15 = MLE(15)"
   ]
  },
  {
   "cell_type": "code",
   "execution_count": 64,
   "id": "d8969359-8778-4cd4-9f4c-6a25ccac5117",
   "metadata": {},
   "outputs": [],
   "source": [
    "from nltk.lm.preprocessing import padded_everygram_pipeline\n",
    "train, vocab = padded_everygram_pipeline(15, large_corpus)\n",
    "ttrain, tvocab = padded_everygram_pipeline(15, time_corpus)\n",
    "# Not sure why I need to reinstate the generater object, should just restart by itself"
   ]
  },
  {
   "cell_type": "code",
   "execution_count": 65,
   "id": "0adb2c3c-fc16-42ac-8d62-e8e7ea7a4cfc",
   "metadata": {
    "tags": []
   },
   "outputs": [],
   "source": [
    "lm_15.fit(train, vocab)\n",
    "lm2_15.fit(ttrain, tvocab)"
   ]
  },
  {
   "cell_type": "code",
   "execution_count": 66,
   "id": "3487fe7b-c59d-4159-a2bd-4853003d0757",
   "metadata": {
    "tags": []
   },
   "outputs": [],
   "source": [
    "test_song = lm_15.generate(200, random_seed = 13)\n",
    "test_time = lm2_15.generate(200, random_seed = 13)\n",
    "test_song = list(map(int, test_song))\n",
    "test_time = list(map(int, test_time))\n",
    "# change back to int for easier convert to midi"
   ]
  },
  {
   "cell_type": "code",
   "execution_count": 68,
   "id": "826d8f58-cad7-49d3-88f4-e7cd064f04ef",
   "metadata": {
    "tags": []
   },
   "outputs": [],
   "source": [
    "mp.note_to_midi(test_song, '15gram')\n",
    "mp.time_to_midi(test_song, test_time, '15gram_parallel')"
   ]
  },
  {
   "cell_type": "code",
   "execution_count": null,
   "id": "62ef2a04-7b3f-41fc-a5be-053223f5446f",
   "metadata": {},
   "outputs": [],
   "source": []
  }
 ],
 "metadata": {
  "kernelspec": {
   "display_name": "Python 3 (ipykernel)",
   "language": "python",
   "name": "python3"
  },
  "language_info": {
   "codemirror_mode": {
    "name": "ipython",
    "version": 3
   },
   "file_extension": ".py",
   "mimetype": "text/x-python",
   "name": "python",
   "nbconvert_exporter": "python",
   "pygments_lexer": "ipython3",
   "version": "3.10.11"
  }
 },
 "nbformat": 4,
 "nbformat_minor": 5
}
