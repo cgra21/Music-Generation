{
 "cells": [
  {
   "cell_type": "code",
   "execution_count": 27,
   "id": "82a940c4-0f4b-4458-bad2-643e3628e18c",
   "metadata": {
    "tags": []
   },
   "outputs": [
    {
     "data": {
      "text/plain": [
       "<module 'midiParser' from 'C:\\\\Users\\\\cjgra\\\\Documents\\\\GitHub\\\\Music-Generation\\\\MIDI\\\\midiParser.py'>"
      ]
     },
     "execution_count": 27,
     "metadata": {},
     "output_type": "execute_result"
    }
   ],
   "source": [
    "import midiParser\n",
    "import mido\n",
    "import sklearn\n",
    "import importlib\n",
    "importlib.reload(midiParser)"
   ]
  },
  {
   "cell_type": "code",
   "execution_count": 54,
   "id": "34b9dd49-40d7-43fa-af04-3345676a18cf",
   "metadata": {
    "tags": []
   },
   "outputs": [],
   "source": [
    "song = mido.MidiFile('./mary.mid')\n",
    "corpus = mp.to_arr(song, note_only = False, absolute_time = False)"
   ]
  },
  {
   "cell_type": "code",
   "execution_count": 55,
   "id": "e3402062-9682-40cf-bc7c-1e3e692f918f",
   "metadata": {
    "tags": []
   },
   "outputs": [
    {
     "data": {
      "text/plain": [
       "[[1, 64, 71, 0],\n",
       " [1, 48, 67, 0],\n",
       " [1, 62, 70, 960],\n",
       " [1, 55, 83, 0],\n",
       " [0, 64, 0, 19],\n",
       " [0, 48, 0, 0],\n",
       " [1, 60, 73, 941],\n",
       " [1, 52, 78, 0],\n",
       " [0, 62, 0, 19],\n",
       " [0, 55, 0, 0],\n",
       " [1, 62, 79, 941],\n",
       " [1, 55, 84, 0],\n",
       " [0, 60, 0, 19],\n",
       " [0, 52, 0, 0],\n",
       " [0, 62, 0, 892],\n",
       " [0, 55, 0, 0],\n",
       " [1, 64, 88, 49],\n",
       " [1, 48, 69, 0],\n",
       " [0, 64, 0, 960],\n",
       " [1, 64, 87, 0],\n",
       " [1, 55, 80, 0],\n",
       " [0, 48, 0, 19],\n",
       " [0, 64, 0, 941],\n",
       " [1, 64, 86, 0],\n",
       " [1, 52, 76, 0],\n",
       " [0, 55, 0, 19],\n",
       " [1, 55, 79, 941],\n",
       " [0, 52, 0, 19],\n",
       " [0, 55, 0, 892],\n",
       " [0, 64, 0, 49],\n",
       " [1, 62, 74, 0],\n",
       " [1, 47, 70, 0],\n",
       " [0, 62, 0, 960],\n",
       " [1, 62, 85, 0],\n",
       " [1, 55, 84, 0],\n",
       " [0, 47, 0, 19],\n",
       " [0, 62, 0, 941],\n",
       " [1, 62, 84, 0],\n",
       " [1, 53, 74, 0],\n",
       " [0, 55, 0, 19],\n",
       " [1, 55, 78, 941],\n",
       " [0, 53, 0, 19],\n",
       " [0, 55, 0, 892],\n",
       " [0, 62, 0, 49],\n",
       " [1, 64, 82, 0],\n",
       " [1, 48, 72, 0],\n",
       " [1, 67, 85, 960],\n",
       " [1, 55, 84, 0],\n",
       " [0, 64, 0, 19],\n",
       " [0, 48, 0, 0],\n",
       " [0, 67, 0, 892],\n",
       " [1, 67, 79, 49],\n",
       " [1, 52, 74, 0],\n",
       " [0, 55, 0, 19],\n",
       " [1, 55, 83, 941],\n",
       " [0, 52, 0, 19],\n",
       " [0, 55, 0, 892],\n",
       " [0, 67, 0, 49],\n",
       " [1, 64, 68, 0],\n",
       " [1, 48, 67, 0],\n",
       " [1, 62, 68, 960],\n",
       " [1, 55, 83, 0],\n",
       " [0, 64, 0, 19],\n",
       " [0, 48, 0, 0],\n",
       " [1, 60, 69, 941],\n",
       " [1, 52, 76, 0],\n",
       " [0, 62, 0, 19],\n",
       " [0, 55, 0, 0],\n",
       " [1, 62, 82, 941],\n",
       " [1, 55, 77, 0],\n",
       " [0, 60, 0, 19],\n",
       " [0, 52, 0, 0],\n",
       " [0, 62, 0, 892],\n",
       " [0, 55, 0, 0],\n",
       " [1, 64, 87, 49],\n",
       " [1, 48, 73, 0],\n",
       " [0, 64, 0, 960],\n",
       " [1, 64, 83, 0],\n",
       " [1, 55, 82, 0],\n",
       " [0, 48, 0, 19],\n",
       " [0, 64, 0, 941],\n",
       " [1, 64, 83, 0],\n",
       " [1, 52, 76, 0],\n",
       " [0, 55, 0, 19],\n",
       " [0, 64, 0, 941],\n",
       " [1, 64, 86, 0],\n",
       " [1, 55, 77, 0],\n",
       " [0, 52, 0, 19],\n",
       " [0, 55, 0, 892],\n",
       " [0, 64, 0, 49],\n",
       " [1, 62, 79, 0],\n",
       " [1, 47, 68, 0],\n",
       " [0, 62, 0, 960],\n",
       " [1, 62, 79, 0],\n",
       " [1, 55, 88, 0],\n",
       " [0, 47, 0, 19],\n",
       " [0, 62, 0, 941],\n",
       " [1, 64, 80, 0],\n",
       " [1, 53, 74, 0],\n",
       " [0, 55, 0, 19],\n",
       " [1, 62, 73, 941],\n",
       " [1, 55, 73, 0],\n",
       " [0, 64, 0, 19],\n",
       " [0, 53, 0, 0],\n",
       " [0, 62, 0, 892],\n",
       " [0, 55, 0, 0],\n",
       " [1, 60, 72, 49],\n",
       " [1, 48, 69, 0],\n",
       " [1, 55, 84, 960],\n",
       " [0, 48, 0, 19],\n",
       " [1, 48, 72, 941],\n",
       " [0, 55, 0, 19],\n",
       " [0, 48, 0, 1804],\n",
       " [0, 60, 0, 97]]"
      ]
     },
     "execution_count": 55,
     "metadata": {},
     "output_type": "execute_result"
    }
   ],
   "source": [
    "corpus"
   ]
  },
  {
   "cell_type": "code",
   "execution_count": 57,
   "id": "e86485e0-10d8-4f2e-81fb-d8ec597f0a69",
   "metadata": {
    "tags": []
   },
   "outputs": [],
   "source": [
    "def basic_bigram(corpus):\n",
    "    bigram_freqs = {}\n",
    "    bigrams = [(corpus[i], corpus[i+1]) for i in range(len(corpus)-1)]\n",
    "    for bigram in bigrams:\n",
    "        bigram_freqs[bigram] = bigram_freqs.get(bigram, 0) + 1\n",
    "    \n",
    "    return bigram_freqs"
   ]
  },
  {
   "cell_type": "code",
   "execution_count": 58,
   "id": "16f0cdb0-2893-41fe-bde3-0647021c2088",
   "metadata": {
    "tags": []
   },
   "outputs": [
    {
     "ename": "TypeError",
     "evalue": "unhashable type: 'list'",
     "output_type": "error",
     "traceback": [
      "\u001b[1;31m---------------------------------------------------------------------------\u001b[0m",
      "\u001b[1;31mTypeError\u001b[0m                                 Traceback (most recent call last)",
      "Cell \u001b[1;32mIn[58], line 1\u001b[0m\n\u001b[1;32m----> 1\u001b[0m \u001b[43mbasic_bigram\u001b[49m\u001b[43m(\u001b[49m\u001b[43mcorpus\u001b[49m\u001b[43m)\u001b[49m\n",
      "Cell \u001b[1;32mIn[57], line 5\u001b[0m, in \u001b[0;36mbasic_bigram\u001b[1;34m(corpus)\u001b[0m\n\u001b[0;32m      3\u001b[0m bigrams \u001b[38;5;241m=\u001b[39m [(corpus[i], corpus[i\u001b[38;5;241m+\u001b[39m\u001b[38;5;241m1\u001b[39m]) \u001b[38;5;28;01mfor\u001b[39;00m i \u001b[38;5;129;01min\u001b[39;00m \u001b[38;5;28mrange\u001b[39m(\u001b[38;5;28mlen\u001b[39m(corpus)\u001b[38;5;241m-\u001b[39m\u001b[38;5;241m1\u001b[39m)]\n\u001b[0;32m      4\u001b[0m \u001b[38;5;28;01mfor\u001b[39;00m bigram \u001b[38;5;129;01min\u001b[39;00m bigrams:\n\u001b[1;32m----> 5\u001b[0m     bigram_freqs[bigram] \u001b[38;5;241m=\u001b[39m \u001b[43mbigram_freqs\u001b[49m\u001b[38;5;241;43m.\u001b[39;49m\u001b[43mget\u001b[49m\u001b[43m(\u001b[49m\u001b[43mbigram\u001b[49m\u001b[43m,\u001b[49m\u001b[43m \u001b[49m\u001b[38;5;241;43m0\u001b[39;49m\u001b[43m)\u001b[49m \u001b[38;5;241m+\u001b[39m \u001b[38;5;241m1\u001b[39m\n\u001b[0;32m      7\u001b[0m \u001b[38;5;28;01mreturn\u001b[39;00m bigram_freqs\n",
      "\u001b[1;31mTypeError\u001b[0m: unhashable type: 'list'"
     ]
    }
   ],
   "source": [
    "basic_bigram(corpus)"
   ]
  },
  {
   "cell_type": "code",
   "execution_count": null,
   "id": "0a066b3b-42ee-4264-9eb6-0f421a74e72b",
   "metadata": {},
   "outputs": [],
   "source": []
  },
  {
   "cell_type": "code",
   "execution_count": null,
   "id": "42b3c9b8-fbc6-4628-8151-2a11ad4779ac",
   "metadata": {},
   "outputs": [],
   "source": []
  },
  {
   "cell_type": "code",
   "execution_count": null,
   "id": "56987f22-8883-4e22-9b98-c6a751a62033",
   "metadata": {
    "tags": []
   },
   "outputs": [],
   "source": []
  },
  {
   "cell_type": "code",
   "execution_count": null,
   "id": "357717bd-f473-4592-861b-abb69527fce2",
   "metadata": {},
   "outputs": [],
   "source": []
  }
 ],
 "metadata": {
  "kernelspec": {
   "display_name": "Python 3 (ipykernel)",
   "language": "python",
   "name": "python3"
  },
  "language_info": {
   "codemirror_mode": {
    "name": "ipython",
    "version": 3
   },
   "file_extension": ".py",
   "mimetype": "text/x-python",
   "name": "python",
   "nbconvert_exporter": "python",
   "pygments_lexer": "ipython3",
   "version": "3.10.10"
  }
 },
 "nbformat": 4,
 "nbformat_minor": 5
}
