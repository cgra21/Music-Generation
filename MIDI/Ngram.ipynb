{
 "cells": [
  {
   "cell_type": "code",
   "execution_count": 27,
   "id": "82a940c4-0f4b-4458-bad2-643e3628e18c",
   "metadata": {
    "tags": []
   },
   "outputs": [
    {
     "data": {
      "text/plain": [
       "<module 'midiParser' from 'C:\\\\Users\\\\cjgra\\\\Documents\\\\GitHub\\\\Music-Generation\\\\MIDI\\\\midiParser.py'>"
      ]
     },
     "execution_count": 27,
     "metadata": {},
     "output_type": "execute_result"
    }
   ],
   "source": [
    "import midiParser\n",
    "import mido\n",
    "import sklearn\n",
    "import importlib\n",
    "importlib.reload(midiParser)"
   ]
  },
  {
   "cell_type": "code",
   "execution_count": 59,
   "id": "34b9dd49-40d7-43fa-af04-3345676a18cf",
   "metadata": {
    "tags": []
   },
   "outputs": [],
   "source": [
    "song = mido.MidiFile('./mary.mid')\n",
    "corpus = mp.to_arr(song, note_only = True)"
   ]
  },
  {
   "cell_type": "code",
   "execution_count": 60,
   "id": "e3402062-9682-40cf-bc7c-1e3e692f918f",
   "metadata": {
    "tags": []
   },
   "outputs": [
    {
     "data": {
      "text/plain": [
       "[64,\n",
       " 48,\n",
       " 62,\n",
       " 55,\n",
       " 60,\n",
       " 52,\n",
       " 62,\n",
       " 55,\n",
       " 64,\n",
       " 48,\n",
       " 64,\n",
       " 55,\n",
       " 64,\n",
       " 52,\n",
       " 55,\n",
       " 62,\n",
       " 47,\n",
       " 62,\n",
       " 55,\n",
       " 62,\n",
       " 53,\n",
       " 55,\n",
       " 64,\n",
       " 48,\n",
       " 67,\n",
       " 55,\n",
       " 67,\n",
       " 52,\n",
       " 55,\n",
       " 64,\n",
       " 48,\n",
       " 62,\n",
       " 55,\n",
       " 60,\n",
       " 52,\n",
       " 62,\n",
       " 55,\n",
       " 64,\n",
       " 48,\n",
       " 64,\n",
       " 55,\n",
       " 64,\n",
       " 52,\n",
       " 64,\n",
       " 55,\n",
       " 62,\n",
       " 47,\n",
       " 62,\n",
       " 55,\n",
       " 64,\n",
       " 53,\n",
       " 62,\n",
       " 55,\n",
       " 60,\n",
       " 48,\n",
       " 55,\n",
       " 48]"
      ]
     },
     "execution_count": 60,
     "metadata": {},
     "output_type": "execute_result"
    }
   ],
   "source": [
    "corpus"
   ]
  },
  {
   "cell_type": "code",
   "execution_count": 61,
   "id": "e86485e0-10d8-4f2e-81fb-d8ec597f0a69",
   "metadata": {
    "tags": []
   },
   "outputs": [],
   "source": [
    "def basic_bigram(corpus):\n",
    "    bigram_freqs = {}\n",
    "    bigrams = [(corpus[i], corpus[i+1]) for i in range(len(corpus)-1)]\n",
    "    for bigram in bigrams:\n",
    "        bigram_freqs[bigram] = bigram_freqs.get(bigram, 0) + 1\n",
    "    \n",
    "    return bigram_freqs"
   ]
  },
  {
   "cell_type": "code",
   "execution_count": 62,
   "id": "16f0cdb0-2893-41fe-bde3-0647021c2088",
   "metadata": {
    "tags": []
   },
   "outputs": [
    {
     "data": {
      "text/plain": [
       "{(64, 48): 5,\n",
       " (48, 62): 2,\n",
       " (62, 55): 7,\n",
       " (55, 60): 3,\n",
       " (60, 52): 2,\n",
       " (52, 62): 2,\n",
       " (55, 64): 7,\n",
       " (48, 64): 2,\n",
       " (64, 55): 3,\n",
       " (64, 52): 2,\n",
       " (52, 55): 2,\n",
       " (55, 62): 3,\n",
       " (62, 47): 2,\n",
       " (47, 62): 2,\n",
       " (62, 53): 1,\n",
       " (53, 55): 1,\n",
       " (48, 67): 1,\n",
       " (67, 55): 1,\n",
       " (55, 67): 1,\n",
       " (67, 52): 1,\n",
       " (52, 64): 1,\n",
       " (64, 53): 1,\n",
       " (53, 62): 1,\n",
       " (60, 48): 1,\n",
       " (48, 55): 1,\n",
       " (55, 48): 1}"
      ]
     },
     "execution_count": 62,
     "metadata": {},
     "output_type": "execute_result"
    }
   ],
   "source": [
    "basic_bigram(corpus)"
   ]
  },
  {
   "cell_type": "code",
   "execution_count": null,
   "id": "0a066b3b-42ee-4264-9eb6-0f421a74e72b",
   "metadata": {},
   "outputs": [],
   "source": []
  },
  {
   "cell_type": "code",
   "execution_count": null,
   "id": "42b3c9b8-fbc6-4628-8151-2a11ad4779ac",
   "metadata": {},
   "outputs": [],
   "source": []
  },
  {
   "cell_type": "code",
   "execution_count": null,
   "id": "56987f22-8883-4e22-9b98-c6a751a62033",
   "metadata": {
    "tags": []
   },
   "outputs": [],
   "source": []
  },
  {
   "cell_type": "code",
   "execution_count": null,
   "id": "357717bd-f473-4592-861b-abb69527fce2",
   "metadata": {},
   "outputs": [],
   "source": []
  }
 ],
 "metadata": {
  "kernelspec": {
   "display_name": "Python 3 (ipykernel)",
   "language": "python",
   "name": "python3"
  },
  "language_info": {
   "codemirror_mode": {
    "name": "ipython",
    "version": 3
   },
   "file_extension": ".py",
   "mimetype": "text/x-python",
   "name": "python",
   "nbconvert_exporter": "python",
   "pygments_lexer": "ipython3",
   "version": "3.10.10"
  }
 },
 "nbformat": 4,
 "nbformat_minor": 5
}
