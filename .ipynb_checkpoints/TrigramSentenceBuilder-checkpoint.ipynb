{
 "cells": [
  {
   "cell_type": "code",
   "execution_count": null,
   "metadata": {},
   "outputs": [],
   "source": [
    "pip install nltk"
   ]
  },
  {
   "cell_type": "code",
   "execution_count": null,
   "metadata": {},
   "outputs": [],
   "source": [
    "# This example was adapted from: \n",
    "# https://www.analyticsvidhya.com/blog/2019/08/comprehensive-guide-language-model-nlp-python-code/\n",
    "\n",
    "import numpy as np\n",
    "from nltk import download\n",
    "download('reuters')\n",
    "download('punkt')\n",
    "from nltk.corpus import reuters\n",
    "from nltk import trigrams\n",
    "from collections import defaultdict"
   ]
  },
  {
   "cell_type": "code",
   "execution_count": null,
   "metadata": {},
   "outputs": [],
   "source": [
    "#for sentence in reuters.sents():\n",
    "#    print(sentence)"
   ]
  },
  {
   "cell_type": "code",
   "execution_count": null,
   "metadata": {},
   "outputs": [],
   "source": [
    "# How are we going to store the trigram data?\n",
    "# model will be a dictionary\n",
    "# the keys of the dictionary are word1, word2. The value associated with this key is another dictionary. \n",
    "# They key of that dictionary is word3, and the value associated with that key is P(word3 | word1, word2)\n",
    "model = defaultdict(lambda: defaultdict(lambda: 0))"
   ]
  },
  {
   "cell_type": "code",
   "execution_count": null,
   "metadata": {},
   "outputs": [],
   "source": [
    "#model"
   ]
  },
  {
   "cell_type": "code",
   "execution_count": null,
   "metadata": {},
   "outputs": [],
   "source": [
    "# Build the trigram dictionary\n",
    "# After this step, we will have counted the number of times each of the third words occur\n",
    "for sentence in reuters.sents():\n",
    "    for w1,w2,w3 in trigrams(sentence, pad_right=True, pad_left=True):\n",
    "        model[(w1,w2)][w3] += 1"
   ]
  },
  {
   "cell_type": "code",
   "execution_count": null,
   "metadata": {},
   "outputs": [],
   "source": [
    "#len(model)\n",
    "#model"
   ]
  },
  {
   "cell_type": "code",
   "execution_count": null,
   "metadata": {},
   "outputs": [],
   "source": [
    "# Convert the counts to frequencies\n",
    "for w1_w2 in model:\n",
    "    total_count = float(sum(model[w1_w2].values()))\n",
    "    for w3 in model[w1_w2]:\n",
    "        model[w1_w2][w3] /= total_count"
   ]
  },
  {
   "cell_type": "code",
   "execution_count": null,
   "metadata": {},
   "outputs": [],
   "source": [
    "# See if a word pair exists\n",
    "#text = ['today', 'the']\n",
    "text = ['vollyball', 'match']\n",
    "len(model[tuple(text)])"
   ]
  },
  {
   "cell_type": "code",
   "execution_count": null,
   "metadata": {},
   "outputs": [],
   "source": [
    "import random\n",
    "# Provide some starting words\n",
    "text = ['In', 'Japan']\n",
    "# Check if these word pairs exist (if not, then quit)\n",
    "if len(model[tuple(text[-2:])]):\n",
    "    # Keep of track of whether the sentence is finished\n",
    "    sentence_finished = False\n",
    "    while not sentence_finished:\n",
    "        # Create a random number between 0 and 1\n",
    "        r = random.random()\n",
    "        y = .0\n",
    "        \n",
    "        # Loop through all the third words for the given word pair\n",
    "        # and find the word we are going to append\n",
    "        for word in model[tuple(text[-2:])]:\n",
    "            y += model[tuple(text[-2:])][word]\n",
    "            if y >=r:\n",
    "                text.append(word)\n",
    "                break\n",
    "        if text[-2:] == [None,None]:\n",
    "            sentence_finished = True\n",
    "    print(' '.join([t for t in text if t]))\n",
    "else:\n",
    "    print('Starting words did not exist')"
   ]
  },
  {
   "cell_type": "code",
   "execution_count": null,
   "metadata": {},
   "outputs": [],
   "source": [
    "#for sentence in reuters.sents():\n",
    "#    print(sentence)"
   ]
  },
  {
   "cell_type": "code",
   "execution_count": null,
   "metadata": {},
   "outputs": [],
   "source": []
  }
 ],
 "metadata": {
  "kernelspec": {
   "display_name": "Python 3 (ipykernel)",
   "language": "python",
   "name": "python3"
  },
  "language_info": {
   "codemirror_mode": {
    "name": "ipython",
    "version": 3
   },
   "file_extension": ".py",
   "mimetype": "text/x-python",
   "name": "python",
   "nbconvert_exporter": "python",
   "pygments_lexer": "ipython3",
   "version": "3.9.16"
  }
 },
 "nbformat": 4,
 "nbformat_minor": 4
}
