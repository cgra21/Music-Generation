{
 "cells": [
  {
   "cell_type": "code",
   "execution_count": 1,
   "metadata": {
    "tags": []
   },
   "outputs": [
    {
     "name": "stdout",
     "output_type": "stream",
     "text": [
      "Collecting nltk\n",
      "  Using cached nltk-3.8.1-py3-none-any.whl (1.5 MB)\n",
      "Collecting tqdm\n",
      "  Using cached tqdm-4.65.0-py3-none-any.whl (77 kB)\n",
      "Requirement already satisfied: joblib in c:\\users\\cjgra\\documents\\github\\music-generation\\.venv\\lib\\site-packages (from nltk) (1.2.0)\n",
      "Collecting click\n",
      "  Using cached click-8.1.3-py3-none-any.whl (96 kB)\n",
      "Collecting regex>=2021.8.3\n",
      "  Downloading regex-2023.3.23-cp310-cp310-win_amd64.whl (267 kB)\n",
      "     -------------------------------------- 267.9/267.9 kB 8.3 MB/s eta 0:00:00\n",
      "Requirement already satisfied: colorama in c:\\users\\cjgra\\documents\\github\\music-generation\\.venv\\lib\\site-packages (from click->nltk) (0.4.6)\n",
      "Installing collected packages: tqdm, regex, click, nltk\n",
      "Successfully installed click-8.1.3 nltk-3.8.1 regex-2023.3.23 tqdm-4.65.0\n",
      "Note: you may need to restart the kernel to use updated packages.\n"
     ]
    },
    {
     "name": "stderr",
     "output_type": "stream",
     "text": [
      "\n",
      "[notice] A new release of pip available: 22.3.1 -> 23.0.1\n",
      "[notice] To update, run: python.exe -m pip install --upgrade pip\n"
     ]
    }
   ],
   "source": [
    "!pip install nltk"
   ]
  },
  {
   "cell_type": "code",
   "execution_count": 2,
   "metadata": {
    "tags": []
   },
   "outputs": [
    {
     "name": "stderr",
     "output_type": "stream",
     "text": [
      "[nltk_data] Downloading package reuters to\n",
      "[nltk_data]     C:\\Users\\cjgra\\AppData\\Roaming\\nltk_data...\n",
      "[nltk_data] Downloading package punkt to\n",
      "[nltk_data]     C:\\Users\\cjgra\\AppData\\Roaming\\nltk_data...\n",
      "[nltk_data]   Unzipping tokenizers\\punkt.zip.\n"
     ]
    }
   ],
   "source": [
    "# This example was adapted from: \n",
    "# https://www.analyticsvidhya.com/blog/2019/08/comprehensive-guide-language-model-nlp-python-code/\n",
    "\n",
    "import numpy as np\n",
    "from nltk import download\n",
    "download('reuters')\n",
    "download('punkt')\n",
    "from nltk.corpus import reuters\n",
    "from nltk import trigrams\n",
    "from collections import defaultdict"
   ]
  },
  {
   "cell_type": "code",
   "execution_count": 13,
   "metadata": {
    "tags": []
   },
   "outputs": [],
   "source": [
    "# for sentence in reuters.sents():\n",
    "#     print(sentence)"
   ]
  },
  {
   "cell_type": "code",
   "execution_count": 4,
   "metadata": {
    "tags": []
   },
   "outputs": [],
   "source": [
    "# How are we going to store the trigram data?\n",
    "# model will be a dictionary\n",
    "# the keys of the dictionary are word1, word2. The value associated with this key is another dictionary. \n",
    "# They key of that dictionary is word3, and the value associated with that key is P(word3 | word1, word2)\n",
    "model = defaultdict(lambda: defaultdict(lambda: 0))"
   ]
  },
  {
   "cell_type": "code",
   "execution_count": 15,
   "metadata": {
    "tags": []
   },
   "outputs": [],
   "source": [
    "#model"
   ]
  },
  {
   "cell_type": "code",
   "execution_count": 6,
   "metadata": {
    "tags": []
   },
   "outputs": [],
   "source": [
    "# Build the trigram dictionary\n",
    "# After this step, we will have counted the number of times each of the third words occur\n",
    "for sentence in reuters.sents():\n",
    "    for w1,w2,w3 in trigrams(sentence, pad_right=True, pad_left=True):\n",
    "        model[(w1,w2)][w3] += 1"
   ]
  },
  {
   "cell_type": "code",
   "execution_count": 7,
   "metadata": {
    "tags": []
   },
   "outputs": [
    {
     "data": {
      "text/plain": [
       "398630"
      ]
     },
     "execution_count": 7,
     "metadata": {},
     "output_type": "execute_result"
    }
   ],
   "source": [
    "len(model)\n",
    "#model"
   ]
  },
  {
   "cell_type": "code",
   "execution_count": 8,
   "metadata": {
    "tags": []
   },
   "outputs": [],
   "source": [
    "# Convert the counts to frequencies\n",
    "for w1_w2 in model:\n",
    "    total_count = float(sum(model[w1_w2].values()))\n",
    "    for w3 in model[w1_w2]:\n",
    "        model[w1_w2][w3] /= total_count"
   ]
  },
  {
   "cell_type": "code",
   "execution_count": 9,
   "metadata": {
    "tags": []
   },
   "outputs": [
    {
     "data": {
      "text/plain": [
       "0"
      ]
     },
     "execution_count": 9,
     "metadata": {},
     "output_type": "execute_result"
    }
   ],
   "source": [
    "# See if a word pair exists\n",
    "#text = ['today', 'the']\n",
    "text = ['vollyball', 'match']\n",
    "len(model[tuple(text)])"
   ]
  },
  {
   "cell_type": "code",
   "execution_count": 10,
   "metadata": {
    "tags": []
   },
   "outputs": [
    {
     "name": "stdout",
     "output_type": "stream",
     "text": [
      "In Japan the government ' s review of data in its monthly balance sheet total rose 5 . 68 billion dlr oilfield services company said the product has to go away from its parent company ' s foreign exchange from tourists and contracted labour abroad , when Agriculture Ministers approved the merger , tender offer for 3 . 01 pct .\n"
     ]
    }
   ],
   "source": [
    "import random\n",
    "# Provide some starting words\n",
    "text = ['In', 'Japan']\n",
    "# Check if these word pairs exist (if not, then quit)\n",
    "if len(model[tuple(text[-2:])]):\n",
    "    # Keep of track of whether the sentence is finished\n",
    "    sentence_finished = False\n",
    "    while not sentence_finished:\n",
    "        # Create a random number between 0 and 1\n",
    "        r = random.random()\n",
    "        y = .0\n",
    "        \n",
    "        # Loop through all the third words for the given word pair\n",
    "        # and find the word we are going to append\n",
    "        for word in model[tuple(text[-2:])]:\n",
    "            y += model[tuple(text[-2:])][word]\n",
    "            if y >=r:\n",
    "                text.append(word)\n",
    "                break\n",
    "        if text[-2:] == [None,None]:\n",
    "            sentence_finished = True\n",
    "    print(' '.join([t for t in text if t]))\n",
    "else:\n",
    "    print('Starting words did not exist')"
   ]
  },
  {
   "cell_type": "code",
   "execution_count": null,
   "metadata": {},
   "outputs": [],
   "source": [
    "#for sentence in reuters.sents():\n",
    "#    print(sentence)"
   ]
  },
  {
   "cell_type": "code",
   "execution_count": null,
   "metadata": {},
   "outputs": [],
   "source": []
  }
 ],
 "metadata": {
  "kernelspec": {
   "display_name": "Python 3 (ipykernel)",
   "language": "python",
   "name": "python3"
  },
  "language_info": {
   "codemirror_mode": {
    "name": "ipython",
    "version": 3
   },
   "file_extension": ".py",
   "mimetype": "text/x-python",
   "name": "python",
   "nbconvert_exporter": "python",
   "pygments_lexer": "ipython3",
   "version": "3.10.10"
  }
 },
 "nbformat": 4,
 "nbformat_minor": 4
}
